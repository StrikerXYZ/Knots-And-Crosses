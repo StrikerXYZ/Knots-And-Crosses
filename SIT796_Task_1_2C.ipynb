{
  "nbformat": 4,
  "nbformat_minor": 0,
  "metadata": {
    "colab": {
      "name": "SIT796_Task_1.2C.ipynb",
      "provenance": [],
      "collapsed_sections": []
    },
    "kernelspec": {
      "name": "python3",
      "display_name": "Python 3"
    }
  },
  "cells": [
    {
      "cell_type": "markdown",
      "metadata": {
        "id": "477othjQ5gSg"
      },
      "source": [
        "**Knots And Crosses**"
      ]
    },
    {
      "cell_type": "markdown",
      "metadata": {
        "id": "E724kNdb5mMc"
      },
      "source": [
        "Setup:"
      ]
    },
    {
      "cell_type": "code",
      "metadata": {
        "id": "R5xKURaZTrAw"
      },
      "source": [
        "# install required system dependencies\r\n",
        "\"\"\"\r\n",
        "!apt-get install -y xvfb x11-utils \r\n",
        "!apt-get install x11-utils > /dev/null 2>&1\r\n",
        "!pip install PyVirtualDisplay==2.0.* \\\r\n",
        "  PyOpenGL==3.1.* \\\r\n",
        "  PyOpenGL-accelerate==3.1.* \\\r\n",
        "  gym[box2d]==0.17.* \r\n",
        "!pip install pyglet\r\n",
        "\"\"\""
      ],
      "execution_count": 5,
      "outputs": []
    },
    {
      "cell_type": "markdown",
      "metadata": {
        "id": "9EHnX1BgyxRi"
      },
      "source": [
        "Environment:"
      ]
    },
    {
      "cell_type": "code",
      "metadata": {
        "id": "QON_FI_Iy2AC"
      },
      "source": [
        "import gym\r\n",
        "import numpy as np\r\n",
        "import random\r\n",
        "\r\n",
        "class KnotsNCrosses(gym.Env):\r\n",
        "\r\n",
        "  def __init__(self):\r\n",
        "    self.done = False;\r\n",
        "    self.observation = np.full((9), [' '],dtype=str);\r\n",
        "\r\n",
        "  def opponentMove(self):\r\n",
        "    for i in range(9):\r\n",
        "      if (self.observation[i] == ' '):\r\n",
        "        self.observation[i] = 'O';\r\n",
        "        break;\r\n",
        "\r\n",
        "  def step(self, action):\r\n",
        "    self.observation[action] = 'X';\r\n",
        "    reward = 0;\r\n",
        "    self.done = (np.count_nonzero(' ' == self.observation) == 0);\r\n",
        "    return self.observation, reward, self.done;\r\n",
        "\r\n",
        "  def reset(self):\r\n",
        "    self.done = False;\r\n",
        "    self.observation = np.full((9), [' '],dtype=str);\r\n",
        "    return self.observation;\r\n",
        "\r\n",
        "  def render(self):\r\n",
        "        print(f'   |   |   ');\r\n",
        "        print(f' {self.observation[0]} | {self.observation[1]} | {self.observation[2]} ');\r\n",
        "        print(f'___|___|___');\r\n",
        "        print(f'   |   |   ');\r\n",
        "        print(f' {self.observation[3]} | {self.observation[4]} | {self.observation[5]} ');\r\n",
        "        print(f'___|___|___');\r\n",
        "        print(f'   |   |   ');\r\n",
        "        print(f' {self.observation[6]} | {self.observation[7]} | {self.observation[8]} ');\r\n",
        "        print(f'   |   |   \\n');"
      ],
      "execution_count": 31,
      "outputs": []
    },
    {
      "cell_type": "markdown",
      "metadata": {
        "id": "Re1v0DzusONr"
      },
      "source": [
        "Policy:\r\n"
      ]
    },
    {
      "cell_type": "code",
      "metadata": {
        "id": "40T2PQda8UDA"
      },
      "source": [
        "#policy\r\n",
        "def policy(observation, timestep):\r\n",
        "\r\n",
        "    #just go next available space for simplicity\r\n",
        "    for i in range(9):\r\n",
        "      if (observation[i] == ' '):\r\n",
        "        return i;\r\n",
        "\r\n",
        "    return 0;"
      ],
      "execution_count": 39,
      "outputs": []
    },
    {
      "cell_type": "markdown",
      "metadata": {
        "id": "KgabsIGx-EH9"
      },
      "source": [
        "Output:"
      ]
    },
    {
      "cell_type": "code",
      "metadata": {
        "colab": {
          "base_uri": "https://localhost:8080/"
        },
        "id": "WE51uIT55uWL",
        "outputId": "b73430b8-1d05-405f-e48a-25de90fb7d19"
      },
      "source": [
        "env = KnotsNCrosses()\r\n",
        "observation = env.reset()\r\n",
        "\r\n",
        "for timestep in range(5):\r\n",
        "  env.render();\r\n",
        "  action = policy(observation, timestep);\r\n",
        "  observation, reward, done = env.step(action);\r\n",
        "  env.opponentMove();\r\n",
        "  if done: env.reset();\r\n"
      ],
      "execution_count": 42,
      "outputs": [
        {
          "output_type": "stream",
          "text": [
            "   |   |   \n",
            "   |   |   \n",
            "___|___|___\n",
            "   |   |   \n",
            "   |   |   \n",
            "___|___|___\n",
            "   |   |   \n",
            "   |   |   \n",
            "   |   |   \n",
            "\n",
            "   |   |   \n",
            " X | O |   \n",
            "___|___|___\n",
            "   |   |   \n",
            "   |   |   \n",
            "___|___|___\n",
            "   |   |   \n",
            "   |   |   \n",
            "   |   |   \n",
            "\n",
            "   |   |   \n",
            " X | O | X \n",
            "___|___|___\n",
            "   |   |   \n",
            " O |   |   \n",
            "___|___|___\n",
            "   |   |   \n",
            "   |   |   \n",
            "   |   |   \n",
            "\n",
            "   |   |   \n",
            " X | O | X \n",
            "___|___|___\n",
            "   |   |   \n",
            " O | X | O \n",
            "___|___|___\n",
            "   |   |   \n",
            "   |   |   \n",
            "   |   |   \n",
            "\n",
            "   |   |   \n",
            " X | O | X \n",
            "___|___|___\n",
            "   |   |   \n",
            " O | X | O \n",
            "___|___|___\n",
            "   |   |   \n",
            " X | O |   \n",
            "   |   |   \n",
            "\n"
          ],
          "name": "stdout"
        }
      ]
    }
  ]
}